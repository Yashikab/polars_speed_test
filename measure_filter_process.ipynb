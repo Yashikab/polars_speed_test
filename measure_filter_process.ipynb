{
 "cells": [
  {
   "cell_type": "code",
   "execution_count": 1,
   "metadata": {},
   "outputs": [
    {
     "name": "stdout",
     "output_type": "stream",
     "text": [
      "1.17.1\n"
     ]
    }
   ],
   "source": [
    "import polars as pl\n",
    "import numpy as np\n",
    "import time\n",
    "import pickle\n",
    "\n",
    "\n",
    "print(pl.__version__)"
   ]
  },
  {
   "cell_type": "code",
   "execution_count": 2,
   "metadata": {},
   "outputs": [],
   "source": [
    "n_rows = 1_000_000\n",
    "np.random.seed(100)\n",
    "\n",
    "data = {\n",
    "    \"id\": np.arange(n_rows).tolist(),\n",
    "    \"other_cd\": (np.random.choice(list(range(n_rows)), size=n_rows, replace=False)).tolist(),\n",
    "    \"value\": (np.random.rand(n_rows) * 100).tolist(),  # random value between 0 and 100\n",
    "    \"category\": (np.random.choice([\"A\", \"B\", \"C\", \"D\"], size=n_rows)).tolist(),\n",
    "    \"flg\": (np.random.choice([True, False], size=n_rows)).tolist(),\n",
    "    ** {\n",
    "        f\"vec{i}\": np.random.rand(n_rows) for i in range(200)\n",
    "    }\n",
    "}\n",
    "\n",
    "df = pl.DataFrame(data)\n"
   ]
  },
  {
   "cell_type": "code",
   "execution_count": 3,
   "metadata": {},
   "outputs": [],
   "source": [
    "durations = []\n",
    "\n",
    "for _ in range(200):\n",
    "    target_ids = np.random.choice(n_rows, size=10).tolist()\n",
    "    exclude_cd = np.random.choice(n_rows, size=10).tolist()\n",
    "    threshold = np.random.choice(100)\n",
    "    target_category = np.random.choice([\"A\", \"B\", \"C\", \"D\"], size=2)\n",
    "\n",
    "    start_at = time.time()\n",
    "    df.filter(\n",
    "        pl.col(\"id\").is_in(target_ids)\n",
    "        & ~pl.col(\"other_cd\").is_in(exclude_cd)\n",
    "        & (pl.col(\"value\") >= threshold)\n",
    "        & pl.col(\"category\").is_in(target_category)\n",
    "        & pl.col(\"flg\")\n",
    "    )\n",
    "    duration = time.time() - start_at\n",
    "    durations.append(duration)"
   ]
  },
  {
   "cell_type": "code",
   "execution_count": 4,
   "metadata": {},
   "outputs": [],
   "source": [
    "filename = f\"duration_pl_v{pl.__version__}.pkl\"\n",
    "\n",
    "with open(filename, \"wb\") as f:\n",
    "    pickle.dump(durations, f)"
   ]
  },
  {
   "cell_type": "code",
   "execution_count": null,
   "metadata": {},
   "outputs": [],
   "source": []
  }
 ],
 "metadata": {
  "kernelspec": {
   "display_name": ".venv",
   "language": "python",
   "name": "python3"
  },
  "language_info": {
   "codemirror_mode": {
    "name": "ipython",
    "version": 3
   },
   "file_extension": ".py",
   "mimetype": "text/x-python",
   "name": "python",
   "nbconvert_exporter": "python",
   "pygments_lexer": "ipython3",
   "version": "3.12.8"
  }
 },
 "nbformat": 4,
 "nbformat_minor": 2
}
