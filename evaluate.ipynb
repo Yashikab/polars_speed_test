{
 "cells": [
  {
   "cell_type": "code",
   "execution_count": 17,
   "metadata": {},
   "outputs": [],
   "source": [
    "import pandas as pd"
   ]
  },
  {
   "cell_type": "code",
   "execution_count": 18,
   "metadata": {},
   "outputs": [],
   "source": [
    "import pickle\n",
    "\n",
    "with open(\"duration_pl_v1.16.0.pkl\", \"rb\") as f:\n",
    "    pl16 = pickle.load(f)\n",
    "\n",
    "with open(\"duration_pl_v1.17.1.pkl\", \"rb\") as f:\n",
    "    pl17 = pickle.load(f)\n",
    "\n",
    "with open(\"duration_pl_v1.18.0.pkl\", \"rb\") as f:\n",
    "    pl18 = pickle.load(f)\n",
    "\n",
    "\n",
    "result = {\n",
    "    \"pl_1_16_0\": pl16,\n",
    "    \"pl_1_17_1\": pl17,\n",
    "    \"pl_1_18_0\": pl18,\n",
    "}\n",
    "\n",
    "result_df = pd.DataFrame(result)\n"
   ]
  },
  {
   "cell_type": "code",
   "execution_count": 19,
   "metadata": {},
   "outputs": [
    {
     "data": {
      "text/html": [
       "<div>\n",
       "<style scoped>\n",
       "    .dataframe tbody tr th:only-of-type {\n",
       "        vertical-align: middle;\n",
       "    }\n",
       "\n",
       "    .dataframe tbody tr th {\n",
       "        vertical-align: top;\n",
       "    }\n",
       "\n",
       "    .dataframe thead th {\n",
       "        text-align: right;\n",
       "    }\n",
       "</style>\n",
       "<table border=\"1\" class=\"dataframe\">\n",
       "  <thead>\n",
       "    <tr style=\"text-align: right;\">\n",
       "      <th></th>\n",
       "      <th>pl_1_16_0</th>\n",
       "      <th>pl_1_17_1</th>\n",
       "      <th>pl_1_18_0</th>\n",
       "    </tr>\n",
       "  </thead>\n",
       "  <tbody>\n",
       "    <tr>\n",
       "      <th>count</th>\n",
       "      <td>200.000000</td>\n",
       "      <td>200.000000</td>\n",
       "      <td>200.000000</td>\n",
       "    </tr>\n",
       "    <tr>\n",
       "      <th>mean</th>\n",
       "      <td>0.043924</td>\n",
       "      <td>0.214989</td>\n",
       "      <td>0.214430</td>\n",
       "    </tr>\n",
       "    <tr>\n",
       "      <th>std</th>\n",
       "      <td>0.030500</td>\n",
       "      <td>0.019794</td>\n",
       "      <td>0.018168</td>\n",
       "    </tr>\n",
       "    <tr>\n",
       "      <th>min</th>\n",
       "      <td>0.015243</td>\n",
       "      <td>0.176165</td>\n",
       "      <td>0.173290</td>\n",
       "    </tr>\n",
       "    <tr>\n",
       "      <th>25%</th>\n",
       "      <td>0.019780</td>\n",
       "      <td>0.195675</td>\n",
       "      <td>0.199923</td>\n",
       "    </tr>\n",
       "    <tr>\n",
       "      <th>50%</th>\n",
       "      <td>0.024556</td>\n",
       "      <td>0.217230</td>\n",
       "      <td>0.216624</td>\n",
       "    </tr>\n",
       "    <tr>\n",
       "      <th>75%</th>\n",
       "      <td>0.069463</td>\n",
       "      <td>0.230346</td>\n",
       "      <td>0.229335</td>\n",
       "    </tr>\n",
       "    <tr>\n",
       "      <th>max</th>\n",
       "      <td>0.155232</td>\n",
       "      <td>0.309084</td>\n",
       "      <td>0.258466</td>\n",
       "    </tr>\n",
       "  </tbody>\n",
       "</table>\n",
       "</div>"
      ],
      "text/plain": [
       "        pl_1_16_0   pl_1_17_1   pl_1_18_0\n",
       "count  200.000000  200.000000  200.000000\n",
       "mean     0.043924    0.214989    0.214430\n",
       "std      0.030500    0.019794    0.018168\n",
       "min      0.015243    0.176165    0.173290\n",
       "25%      0.019780    0.195675    0.199923\n",
       "50%      0.024556    0.217230    0.216624\n",
       "75%      0.069463    0.230346    0.229335\n",
       "max      0.155232    0.309084    0.258466"
      ]
     },
     "execution_count": 19,
     "metadata": {},
     "output_type": "execute_result"
    }
   ],
   "source": [
    "result_df.describe()"
   ]
  },
  {
   "cell_type": "code",
   "execution_count": null,
   "metadata": {},
   "outputs": [],
   "source": []
  }
 ],
 "metadata": {
  "kernelspec": {
   "display_name": ".venv",
   "language": "python",
   "name": "python3"
  },
  "language_info": {
   "codemirror_mode": {
    "name": "ipython",
    "version": 3
   },
   "file_extension": ".py",
   "mimetype": "text/x-python",
   "name": "python",
   "nbconvert_exporter": "python",
   "pygments_lexer": "ipython3",
   "version": "3.12.8"
  }
 },
 "nbformat": 4,
 "nbformat_minor": 2
}
